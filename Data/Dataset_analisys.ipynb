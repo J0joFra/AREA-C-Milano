{
 "cells": [
  {
   "cell_type": "code",
   "execution_count": 28,
   "metadata": {},
   "outputs": [],
   "source": [
    "#Importazioni Librerie\n",
    "import pandas as pd\n",
    "import numpy as np\n",
    "import matplotlib.pyplot as plt\n",
    "import seaborn as sns"
   ]
  },
  {
   "cell_type": "markdown",
   "metadata": {},
   "source": [
    "# Preview"
   ]
  },
  {
   "cell_type": "code",
   "execution_count": 29,
   "metadata": {},
   "outputs": [],
   "source": [
    "#Importazione Dataset\n",
    "file_path = \"AreaC_Acces.csv\"\n",
    "df = pd.read_csv(file_path)"
   ]
  },
  {
   "cell_type": "code",
   "execution_count": 30,
   "metadata": {},
   "outputs": [
    {
     "data": {
      "text/html": [
       "<div>\n",
       "<style scoped>\n",
       "    .dataframe tbody tr th:only-of-type {\n",
       "        vertical-align: middle;\n",
       "    }\n",
       "\n",
       "    .dataframe tbody tr th {\n",
       "        vertical-align: top;\n",
       "    }\n",
       "\n",
       "    .dataframe thead th {\n",
       "        text-align: right;\n",
       "    }\n",
       "</style>\n",
       "<table border=\"1\" class=\"dataframe\">\n",
       "  <thead>\n",
       "    <tr style=\"text-align: right;\">\n",
       "      <th></th>\n",
       "      <th>_id</th>\n",
       "      <th>data_giorno</th>\n",
       "      <th>giorno</th>\n",
       "      <th>totale_transiti_giornalieri_h24</th>\n",
       "      <th>totale_transiti_giornalieri_7.30_19.30_autoveicoli</th>\n",
       "      <th>totale_transiti_giornalieri_7.30_19.30_ciclomotori_motocicli</th>\n",
       "      <th>totale_transiti_giornalieri_00.00_7.29_autoveicoli</th>\n",
       "      <th>totale_transiti_giornalieri_00.00_7.29_ciclomotori_motocicli</th>\n",
       "      <th>totale_transiti_giornalieri_19.30_23.59_autoveicoli</th>\n",
       "      <th>totale_transiti_giornalieri_19.30_23.59_ciclomotori_motocicli</th>\n",
       "    </tr>\n",
       "  </thead>\n",
       "  <tbody>\n",
       "    <tr>\n",
       "      <th>0</th>\n",
       "      <td>1</td>\n",
       "      <td>2024-05-31T00:00:00</td>\n",
       "      <td>venerdì</td>\n",
       "      <td>146673</td>\n",
       "      <td>81679</td>\n",
       "      <td>19980</td>\n",
       "      <td>15251</td>\n",
       "      <td>1053</td>\n",
       "      <td>25677</td>\n",
       "      <td>3033</td>\n",
       "    </tr>\n",
       "    <tr>\n",
       "      <th>1</th>\n",
       "      <td>2</td>\n",
       "      <td>2024-05-30T00:00:00</td>\n",
       "      <td>giovedì</td>\n",
       "      <td>145193</td>\n",
       "      <td>81823</td>\n",
       "      <td>23816</td>\n",
       "      <td>14164</td>\n",
       "      <td>1180</td>\n",
       "      <td>21954</td>\n",
       "      <td>2256</td>\n",
       "    </tr>\n",
       "    <tr>\n",
       "      <th>2</th>\n",
       "      <td>3</td>\n",
       "      <td>2024-05-29T00:00:00</td>\n",
       "      <td>mercoledì</td>\n",
       "      <td>149124</td>\n",
       "      <td>81150</td>\n",
       "      <td>27747</td>\n",
       "      <td>13758</td>\n",
       "      <td>1335</td>\n",
       "      <td>21261</td>\n",
       "      <td>3873</td>\n",
       "    </tr>\n",
       "    <tr>\n",
       "      <th>3</th>\n",
       "      <td>4</td>\n",
       "      <td>2024-05-28T00:00:00</td>\n",
       "      <td>martedì</td>\n",
       "      <td>144932</td>\n",
       "      <td>79639</td>\n",
       "      <td>27034</td>\n",
       "      <td>12636</td>\n",
       "      <td>1261</td>\n",
       "      <td>20625</td>\n",
       "      <td>3737</td>\n",
       "    </tr>\n",
       "    <tr>\n",
       "      <th>4</th>\n",
       "      <td>5</td>\n",
       "      <td>2024-05-27T00:00:00</td>\n",
       "      <td>lunedì</td>\n",
       "      <td>133736</td>\n",
       "      <td>75512</td>\n",
       "      <td>23498</td>\n",
       "      <td>13425</td>\n",
       "      <td>1179</td>\n",
       "      <td>18351</td>\n",
       "      <td>1771</td>\n",
       "    </tr>\n",
       "  </tbody>\n",
       "</table>\n",
       "</div>"
      ],
      "text/plain": [
       "   _id          data_giorno     giorno  totale_transiti_giornalieri_h24  \\\n",
       "0    1  2024-05-31T00:00:00    venerdì                           146673   \n",
       "1    2  2024-05-30T00:00:00    giovedì                           145193   \n",
       "2    3  2024-05-29T00:00:00  mercoledì                           149124   \n",
       "3    4  2024-05-28T00:00:00    martedì                           144932   \n",
       "4    5  2024-05-27T00:00:00     lunedì                           133736   \n",
       "\n",
       "   totale_transiti_giornalieri_7.30_19.30_autoveicoli  \\\n",
       "0                                              81679    \n",
       "1                                              81823    \n",
       "2                                              81150    \n",
       "3                                              79639    \n",
       "4                                              75512    \n",
       "\n",
       "   totale_transiti_giornalieri_7.30_19.30_ciclomotori_motocicli  \\\n",
       "0                                              19980              \n",
       "1                                              23816              \n",
       "2                                              27747              \n",
       "3                                              27034              \n",
       "4                                              23498              \n",
       "\n",
       "   totale_transiti_giornalieri_00.00_7.29_autoveicoli  \\\n",
       "0                                              15251    \n",
       "1                                              14164    \n",
       "2                                              13758    \n",
       "3                                              12636    \n",
       "4                                              13425    \n",
       "\n",
       "   totale_transiti_giornalieri_00.00_7.29_ciclomotori_motocicli  \\\n",
       "0                                               1053              \n",
       "1                                               1180              \n",
       "2                                               1335              \n",
       "3                                               1261              \n",
       "4                                               1179              \n",
       "\n",
       "   totale_transiti_giornalieri_19.30_23.59_autoveicoli  \\\n",
       "0                                              25677     \n",
       "1                                              21954     \n",
       "2                                              21261     \n",
       "3                                              20625     \n",
       "4                                              18351     \n",
       "\n",
       "   totale_transiti_giornalieri_19.30_23.59_ciclomotori_motocicli  \n",
       "0                                               3033              \n",
       "1                                               2256              \n",
       "2                                               3873              \n",
       "3                                               3737              \n",
       "4                                               1771              "
      ]
     },
     "execution_count": 30,
     "metadata": {},
     "output_type": "execute_result"
    }
   ],
   "source": [
    "# Visualizzazione delle prime righe del dataset\n",
    "df.head()"
   ]
  },
  {
   "cell_type": "code",
   "execution_count": 31,
   "metadata": {},
   "outputs": [
    {
     "name": "stdout",
     "output_type": "stream",
     "text": [
      "Il dataset ha una dimensione (183, 10)\n",
      "\n"
     ]
    }
   ],
   "source": [
    "#Shape del dataset\n",
    "print(f\"Il dataset ha una dimensione {df.shape}\\n\")"
   ]
  },
  {
   "cell_type": "code",
   "execution_count": 32,
   "metadata": {},
   "outputs": [
    {
     "name": "stdout",
     "output_type": "stream",
     "text": [
      "<class 'pandas.core.frame.DataFrame'>\n",
      "RangeIndex: 183 entries, 0 to 182\n",
      "Data columns (total 10 columns):\n",
      " #   Column                                                         Non-Null Count  Dtype \n",
      "---  ------                                                         --------------  ----- \n",
      " 0   _id                                                            183 non-null    int64 \n",
      " 1   data_giorno                                                    183 non-null    object\n",
      " 2   giorno                                                         183 non-null    object\n",
      " 3   totale_transiti_giornalieri_h24                                183 non-null    int64 \n",
      " 4   totale_transiti_giornalieri_7.30_19.30_autoveicoli             183 non-null    int64 \n",
      " 5   totale_transiti_giornalieri_7.30_19.30_ciclomotori_motocicli   183 non-null    int64 \n",
      " 6   totale_transiti_giornalieri_00.00_7.29_autoveicoli             183 non-null    int64 \n",
      " 7   totale_transiti_giornalieri_00.00_7.29_ciclomotori_motocicli   183 non-null    int64 \n",
      " 8   totale_transiti_giornalieri_19.30_23.59_autoveicoli            183 non-null    int64 \n",
      " 9   totale_transiti_giornalieri_19.30_23.59_ciclomotori_motocicli  183 non-null    int64 \n",
      "dtypes: int64(8), object(2)\n",
      "memory usage: 14.4+ KB\n"
     ]
    }
   ],
   "source": [
    "#Column  Non-Null Count  Dtype \n",
    "df.info()"
   ]
  },
  {
   "cell_type": "markdown",
   "metadata": {},
   "source": [
    "# Data Cleaning"
   ]
  },
  {
   "cell_type": "code",
   "execution_count": 33,
   "metadata": {},
   "outputs": [],
   "source": [
    "# Rimuovere il campo '_id'\n",
    "df = df.drop(columns=['_id'])"
   ]
  },
  {
   "cell_type": "code",
   "execution_count": 34,
   "metadata": {},
   "outputs": [],
   "source": [
    "# Dizionario per rinominare gli headers\n",
    "new_headers = {\n",
    "    'data_giorno': 'date',\n",
    "    'giorno': 'day',\n",
    "    'totale_transiti_giornalieri_h24': 'total_24h',\n",
    "    'totale_transiti_giornalieri_7.30_19.30_autoveicoli': 'total_7.30_19.30_cars',\n",
    "    'totale_transiti_giornalieri_7.30_19.30_ciclomotori_motocicli': 'total_7.30_19.30_bikes',\n",
    "    'totale_transiti_giornalieri_00.00_7.29_autoveicoli': 'total_00.00_7.29_cars',\n",
    "    'totale_transiti_giornalieri_00.00_7.29_ciclomotori_motocicli': 'total_00.00_7.29_bikes',\n",
    "    'totale_transiti_giornalieri_19.30_23.59_autoveicoli': 'total_19.30_23.59_cars',\n",
    "    'totale_transiti_giornalieri_19.30_23.59_ciclomotori_motocicli': 'total_19.30_23.59_bikes'\n",
    "}\n",
    "\n",
    "# Rinominare gli headers del DataFrame\n",
    "df.rename(columns=new_headers, inplace=True)"
   ]
  },
  {
   "cell_type": "code",
   "execution_count": 35,
   "metadata": {},
   "outputs": [],
   "source": [
    "# Convertire la colonna 'date' in formato solo data\n",
    "df['date'] = pd.to_datetime(df['date']).dt.date"
   ]
  },
  {
   "cell_type": "code",
   "execution_count": 36,
   "metadata": {},
   "outputs": [
    {
     "data": {
      "text/html": [
       "<div>\n",
       "<style scoped>\n",
       "    .dataframe tbody tr th:only-of-type {\n",
       "        vertical-align: middle;\n",
       "    }\n",
       "\n",
       "    .dataframe tbody tr th {\n",
       "        vertical-align: top;\n",
       "    }\n",
       "\n",
       "    .dataframe thead th {\n",
       "        text-align: right;\n",
       "    }\n",
       "</style>\n",
       "<table border=\"1\" class=\"dataframe\">\n",
       "  <thead>\n",
       "    <tr style=\"text-align: right;\">\n",
       "      <th></th>\n",
       "      <th>date</th>\n",
       "      <th>day</th>\n",
       "      <th>total_24h</th>\n",
       "      <th>total_7.30_19.30_cars</th>\n",
       "      <th>total_7.30_19.30_bikes</th>\n",
       "      <th>total_00.00_7.29_cars</th>\n",
       "      <th>total_00.00_7.29_bikes</th>\n",
       "      <th>total_19.30_23.59_cars</th>\n",
       "      <th>total_19.30_23.59_bikes</th>\n",
       "    </tr>\n",
       "  </thead>\n",
       "  <tbody>\n",
       "    <tr>\n",
       "      <th>0</th>\n",
       "      <td>2024-05-31</td>\n",
       "      <td>venerdì</td>\n",
       "      <td>146673</td>\n",
       "      <td>81679</td>\n",
       "      <td>19980</td>\n",
       "      <td>15251</td>\n",
       "      <td>1053</td>\n",
       "      <td>25677</td>\n",
       "      <td>3033</td>\n",
       "    </tr>\n",
       "    <tr>\n",
       "      <th>1</th>\n",
       "      <td>2024-05-30</td>\n",
       "      <td>giovedì</td>\n",
       "      <td>145193</td>\n",
       "      <td>81823</td>\n",
       "      <td>23816</td>\n",
       "      <td>14164</td>\n",
       "      <td>1180</td>\n",
       "      <td>21954</td>\n",
       "      <td>2256</td>\n",
       "    </tr>\n",
       "    <tr>\n",
       "      <th>2</th>\n",
       "      <td>2024-05-29</td>\n",
       "      <td>mercoledì</td>\n",
       "      <td>149124</td>\n",
       "      <td>81150</td>\n",
       "      <td>27747</td>\n",
       "      <td>13758</td>\n",
       "      <td>1335</td>\n",
       "      <td>21261</td>\n",
       "      <td>3873</td>\n",
       "    </tr>\n",
       "    <tr>\n",
       "      <th>3</th>\n",
       "      <td>2024-05-28</td>\n",
       "      <td>martedì</td>\n",
       "      <td>144932</td>\n",
       "      <td>79639</td>\n",
       "      <td>27034</td>\n",
       "      <td>12636</td>\n",
       "      <td>1261</td>\n",
       "      <td>20625</td>\n",
       "      <td>3737</td>\n",
       "    </tr>\n",
       "    <tr>\n",
       "      <th>4</th>\n",
       "      <td>2024-05-27</td>\n",
       "      <td>lunedì</td>\n",
       "      <td>133736</td>\n",
       "      <td>75512</td>\n",
       "      <td>23498</td>\n",
       "      <td>13425</td>\n",
       "      <td>1179</td>\n",
       "      <td>18351</td>\n",
       "      <td>1771</td>\n",
       "    </tr>\n",
       "  </tbody>\n",
       "</table>\n",
       "</div>"
      ],
      "text/plain": [
       "         date        day  total_24h  total_7.30_19.30_cars  \\\n",
       "0  2024-05-31    venerdì     146673                  81679   \n",
       "1  2024-05-30    giovedì     145193                  81823   \n",
       "2  2024-05-29  mercoledì     149124                  81150   \n",
       "3  2024-05-28    martedì     144932                  79639   \n",
       "4  2024-05-27     lunedì     133736                  75512   \n",
       "\n",
       "   total_7.30_19.30_bikes  total_00.00_7.29_cars  total_00.00_7.29_bikes  \\\n",
       "0                   19980                  15251                    1053   \n",
       "1                   23816                  14164                    1180   \n",
       "2                   27747                  13758                    1335   \n",
       "3                   27034                  12636                    1261   \n",
       "4                   23498                  13425                    1179   \n",
       "\n",
       "   total_19.30_23.59_cars  total_19.30_23.59_bikes  \n",
       "0                   25677                     3033  \n",
       "1                   21954                     2256  \n",
       "2                   21261                     3873  \n",
       "3                   20625                     3737  \n",
       "4                   18351                     1771  "
      ]
     },
     "execution_count": 36,
     "metadata": {},
     "output_type": "execute_result"
    }
   ],
   "source": [
    "df.head()"
   ]
  },
  {
   "cell_type": "code",
   "execution_count": 45,
   "metadata": {},
   "outputs": [],
   "source": [
    "# Funzione per determinare se una data è un giorno del weekend\n",
    "def is_weekend(date):\n",
    "        if date.weekday() >= 5:  # 5 = sabato, 6 = domenica\n",
    "            return 1\n",
    "        else:\n",
    "            return 0\n",
    "\n",
    "# Applica la funzione alla colonna 'date'\n",
    "df['weekend'] = df['date'].apply(is_weekend)"
   ]
  },
  {
   "cell_type": "code",
   "execution_count": 48,
   "metadata": {},
   "outputs": [
    {
     "data": {
      "text/plain": [
       "(183, 10)"
      ]
     },
     "execution_count": 48,
     "metadata": {},
     "output_type": "execute_result"
    }
   ],
   "source": [
    "# Controllo la grandezza del dataset\n",
    "df.shape"
   ]
  },
  {
   "cell_type": "code",
   "execution_count": 49,
   "metadata": {},
   "outputs": [
    {
     "name": "stdout",
     "output_type": "stream",
     "text": [
      "<class 'pandas.core.frame.DataFrame'>\n",
      "RangeIndex: 183 entries, 0 to 182\n",
      "Data columns (total 10 columns):\n",
      " #   Column                   Non-Null Count  Dtype \n",
      "---  ------                   --------------  ----- \n",
      " 0   date                     183 non-null    object\n",
      " 1   day                      183 non-null    object\n",
      " 2   total_24h                183 non-null    int64 \n",
      " 3   total_7.30_19.30_cars    183 non-null    int64 \n",
      " 4   total_7.30_19.30_bikes   183 non-null    int64 \n",
      " 5   total_00.00_7.29_cars    183 non-null    int64 \n",
      " 6   total_00.00_7.29_bikes   183 non-null    int64 \n",
      " 7   total_19.30_23.59_cars   183 non-null    int64 \n",
      " 8   total_19.30_23.59_bikes  183 non-null    int64 \n",
      " 9   weekend                  183 non-null    int64 \n",
      "dtypes: int64(8), object(2)\n",
      "memory usage: 14.4+ KB\n"
     ]
    }
   ],
   "source": [
    "df.info()"
   ]
  }
 ],
 "metadata": {
  "kernelspec": {
   "display_name": "base",
   "language": "python",
   "name": "python3"
  },
  "language_info": {
   "codemirror_mode": {
    "name": "ipython",
    "version": 3
   },
   "file_extension": ".py",
   "mimetype": "text/x-python",
   "name": "python",
   "nbconvert_exporter": "python",
   "pygments_lexer": "ipython3",
   "version": "3.11.5"
  }
 },
 "nbformat": 4,
 "nbformat_minor": 2
}
