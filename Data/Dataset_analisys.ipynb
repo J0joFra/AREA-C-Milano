{
 "cells": [
  {
   "cell_type": "code",
   "execution_count": 8,
   "metadata": {},
   "outputs": [],
   "source": [
    "#Importazioni Librerie\n",
    "import pandas as pd\n",
    "import numpy as np\n",
    "import matplotlib.pyplot as plt\n",
    "import seaborn as sns"
   ]
  },
  {
   "cell_type": "markdown",
   "metadata": {},
   "source": [
    "# Preview"
   ]
  },
  {
   "cell_type": "code",
   "execution_count": 9,
   "metadata": {},
   "outputs": [],
   "source": [
    "#Importazione Dataset\n",
    "file_path = \"AreaC_Acces.csv\"\n",
    "df = pd.read_csv(file_path)"
   ]
  },
  {
   "cell_type": "code",
   "execution_count": 10,
   "metadata": {},
   "outputs": [
    {
     "data": {
      "text/html": [
       "<div>\n",
       "<style scoped>\n",
       "    .dataframe tbody tr th:only-of-type {\n",
       "        vertical-align: middle;\n",
       "    }\n",
       "\n",
       "    .dataframe tbody tr th {\n",
       "        vertical-align: top;\n",
       "    }\n",
       "\n",
       "    .dataframe thead th {\n",
       "        text-align: right;\n",
       "    }\n",
       "</style>\n",
       "<table border=\"1\" class=\"dataframe\">\n",
       "  <thead>\n",
       "    <tr style=\"text-align: right;\">\n",
       "      <th></th>\n",
       "      <th>_id</th>\n",
       "      <th>data_giorno</th>\n",
       "      <th>giorno</th>\n",
       "      <th>totale_transiti_giornalieri_h24</th>\n",
       "      <th>totale_transiti_giornalieri_7.30_19.30_autoveicoli</th>\n",
       "      <th>totale_transiti_giornalieri_7.30_19.30_ciclomotori_motocicli</th>\n",
       "      <th>totale_transiti_giornalieri_00.00_7.29_autoveicoli</th>\n",
       "      <th>totale_transiti_giornalieri_00.00_7.29_ciclomotori_motocicli</th>\n",
       "      <th>totale_transiti_giornalieri_19.30_23.59_autoveicoli</th>\n",
       "      <th>totale_transiti_giornalieri_19.30_23.59_ciclomotori_motocicli</th>\n",
       "    </tr>\n",
       "  </thead>\n",
       "  <tbody>\n",
       "    <tr>\n",
       "      <th>0</th>\n",
       "      <td>1</td>\n",
       "      <td>2024-05-31T00:00:00</td>\n",
       "      <td>venerdì</td>\n",
       "      <td>146673</td>\n",
       "      <td>81679</td>\n",
       "      <td>19980</td>\n",
       "      <td>15251</td>\n",
       "      <td>1053</td>\n",
       "      <td>25677</td>\n",
       "      <td>3033</td>\n",
       "    </tr>\n",
       "    <tr>\n",
       "      <th>1</th>\n",
       "      <td>2</td>\n",
       "      <td>2024-05-30T00:00:00</td>\n",
       "      <td>giovedì</td>\n",
       "      <td>145193</td>\n",
       "      <td>81823</td>\n",
       "      <td>23816</td>\n",
       "      <td>14164</td>\n",
       "      <td>1180</td>\n",
       "      <td>21954</td>\n",
       "      <td>2256</td>\n",
       "    </tr>\n",
       "    <tr>\n",
       "      <th>2</th>\n",
       "      <td>3</td>\n",
       "      <td>2024-05-29T00:00:00</td>\n",
       "      <td>mercoledì</td>\n",
       "      <td>149124</td>\n",
       "      <td>81150</td>\n",
       "      <td>27747</td>\n",
       "      <td>13758</td>\n",
       "      <td>1335</td>\n",
       "      <td>21261</td>\n",
       "      <td>3873</td>\n",
       "    </tr>\n",
       "    <tr>\n",
       "      <th>3</th>\n",
       "      <td>4</td>\n",
       "      <td>2024-05-28T00:00:00</td>\n",
       "      <td>martedì</td>\n",
       "      <td>144932</td>\n",
       "      <td>79639</td>\n",
       "      <td>27034</td>\n",
       "      <td>12636</td>\n",
       "      <td>1261</td>\n",
       "      <td>20625</td>\n",
       "      <td>3737</td>\n",
       "    </tr>\n",
       "    <tr>\n",
       "      <th>4</th>\n",
       "      <td>5</td>\n",
       "      <td>2024-05-27T00:00:00</td>\n",
       "      <td>lunedì</td>\n",
       "      <td>133736</td>\n",
       "      <td>75512</td>\n",
       "      <td>23498</td>\n",
       "      <td>13425</td>\n",
       "      <td>1179</td>\n",
       "      <td>18351</td>\n",
       "      <td>1771</td>\n",
       "    </tr>\n",
       "  </tbody>\n",
       "</table>\n",
       "</div>"
      ],
      "text/plain": [
       "   _id          data_giorno     giorno  totale_transiti_giornalieri_h24  \\\n",
       "0    1  2024-05-31T00:00:00    venerdì                           146673   \n",
       "1    2  2024-05-30T00:00:00    giovedì                           145193   \n",
       "2    3  2024-05-29T00:00:00  mercoledì                           149124   \n",
       "3    4  2024-05-28T00:00:00    martedì                           144932   \n",
       "4    5  2024-05-27T00:00:00     lunedì                           133736   \n",
       "\n",
       "   totale_transiti_giornalieri_7.30_19.30_autoveicoli  \\\n",
       "0                                              81679    \n",
       "1                                              81823    \n",
       "2                                              81150    \n",
       "3                                              79639    \n",
       "4                                              75512    \n",
       "\n",
       "   totale_transiti_giornalieri_7.30_19.30_ciclomotori_motocicli  \\\n",
       "0                                              19980              \n",
       "1                                              23816              \n",
       "2                                              27747              \n",
       "3                                              27034              \n",
       "4                                              23498              \n",
       "\n",
       "   totale_transiti_giornalieri_00.00_7.29_autoveicoli  \\\n",
       "0                                              15251    \n",
       "1                                              14164    \n",
       "2                                              13758    \n",
       "3                                              12636    \n",
       "4                                              13425    \n",
       "\n",
       "   totale_transiti_giornalieri_00.00_7.29_ciclomotori_motocicli  \\\n",
       "0                                               1053              \n",
       "1                                               1180              \n",
       "2                                               1335              \n",
       "3                                               1261              \n",
       "4                                               1179              \n",
       "\n",
       "   totale_transiti_giornalieri_19.30_23.59_autoveicoli  \\\n",
       "0                                              25677     \n",
       "1                                              21954     \n",
       "2                                              21261     \n",
       "3                                              20625     \n",
       "4                                              18351     \n",
       "\n",
       "   totale_transiti_giornalieri_19.30_23.59_ciclomotori_motocicli  \n",
       "0                                               3033              \n",
       "1                                               2256              \n",
       "2                                               3873              \n",
       "3                                               3737              \n",
       "4                                               1771              "
      ]
     },
     "execution_count": 10,
     "metadata": {},
     "output_type": "execute_result"
    }
   ],
   "source": [
    "# Visualizzazione delle prime righe del dataset\n",
    "df.head()"
   ]
  },
  {
   "cell_type": "code",
   "execution_count": 11,
   "metadata": {},
   "outputs": [
    {
     "name": "stdout",
     "output_type": "stream",
     "text": [
      "Il dataset ha una dimensione (183, 10)\n",
      "\n"
     ]
    }
   ],
   "source": [
    "#Shape del dataset\n",
    "print(f\"Il dataset ha una dimensione {df.shape}\\n\")"
   ]
  }
 ],
 "metadata": {
  "kernelspec": {
   "display_name": "base",
   "language": "python",
   "name": "python3"
  },
  "language_info": {
   "codemirror_mode": {
    "name": "ipython",
    "version": 3
   },
   "file_extension": ".py",
   "mimetype": "text/x-python",
   "name": "python",
   "nbconvert_exporter": "python",
   "pygments_lexer": "ipython3",
   "version": "3.11.5"
  }
 },
 "nbformat": 4,
 "nbformat_minor": 2
}
